{
 "cells": [
  {
   "cell_type": "markdown",
   "metadata": {},
   "source": [
    "Kenneth Reed\n",
    "SQL - Alchemy HW"
   ]
  },
  {
   "cell_type": "code",
   "execution_count": 1,
   "metadata": {},
   "outputs": [],
   "source": [
    "%matplotlib inline\n",
    "from matplotlib import style\n",
    "style.use('fivethirtyeight')\n",
    "import matplotlib.pyplot as plt"
   ]
  },
  {
   "cell_type": "code",
   "execution_count": 2,
   "metadata": {},
   "outputs": [],
   "source": [
    "import numpy as np\n",
    "import pandas as pd"
   ]
  },
  {
   "cell_type": "code",
   "execution_count": 3,
   "metadata": {},
   "outputs": [],
   "source": [
    "import datetime as dt"
   ]
  },
  {
   "cell_type": "markdown",
   "metadata": {},
   "source": [
    "# Reflect Tables into SQLAlchemy ORM"
   ]
  },
  {
   "cell_type": "code",
   "execution_count": 4,
   "metadata": {},
   "outputs": [],
   "source": [
    "# Python SQL toolkit and Object Relational Mapper\n",
    "import sqlalchemy\n",
    "from sqlalchemy.ext.automap import automap_base\n",
    "from sqlalchemy.orm import Session\n",
    "from sqlalchemy import create_engine, func, inspect"
   ]
  },
  {
   "cell_type": "code",
   "execution_count": 5,
   "metadata": {},
   "outputs": [],
   "source": [
    "engine = create_engine(\"sqlite:///Resources/hawaii.sqlite\")"
   ]
  },
  {
   "cell_type": "code",
   "execution_count": 6,
   "metadata": {},
   "outputs": [
    {
     "data": {
      "text/plain": [
       "['measurement', 'station']"
      ]
     },
     "execution_count": 6,
     "metadata": {},
     "output_type": "execute_result"
    }
   ],
   "source": [
    "# Use inspector to check the tables\n",
    "inspector = inspect(engine)\n",
    "inspector.get_table_names()"
   ]
  },
  {
   "cell_type": "code",
   "execution_count": 7,
   "metadata": {},
   "outputs": [
    {
     "data": {
      "text/plain": [
       "[(1, 'USC00519397', '2010-01-01', 0.08, 65.0),\n",
       " (2, 'USC00519397', '2010-01-02', 0.0, 63.0),\n",
       " (3, 'USC00519397', '2010-01-03', 0.0, 74.0),\n",
       " (4, 'USC00519397', '2010-01-04', 0.0, 76.0),\n",
       " (5, 'USC00519397', '2010-01-06', None, 73.0),\n",
       " (6, 'USC00519397', '2010-01-07', 0.06, 70.0)]"
      ]
     },
     "execution_count": 7,
     "metadata": {},
     "output_type": "execute_result"
    }
   ],
   "source": [
    "engine.execute('select * from measurement limit 6').fetchall()"
   ]
  },
  {
   "cell_type": "code",
   "execution_count": 8,
   "metadata": {},
   "outputs": [
    {
     "name": "stdout",
     "output_type": "stream",
     "text": [
      "id INTEGER\n",
      "station TEXT\n",
      "date TEXT\n",
      "prcp FLOAT\n",
      "tobs FLOAT\n"
     ]
    }
   ],
   "source": [
    "#Inspect the table Measurement\n",
    "columns = inspector.get_columns('Measurement')\n",
    "for c in columns:\n",
    "    print(c['name'], c[\"type\"])"
   ]
  },
  {
   "cell_type": "code",
   "execution_count": 9,
   "metadata": {},
   "outputs": [
    {
     "name": "stdout",
     "output_type": "stream",
     "text": [
      "id INTEGER\n",
      "station TEXT\n",
      "name TEXT\n",
      "latitude FLOAT\n",
      "longitude FLOAT\n",
      "elevation FLOAT\n"
     ]
    }
   ],
   "source": [
    "#Inspect the table station\n",
    "columns = inspector.get_columns('station')\n",
    "for c in columns:\n",
    "    print(c['name'], c[\"type\"])"
   ]
  },
  {
   "cell_type": "code",
   "execution_count": 10,
   "metadata": {},
   "outputs": [],
   "source": [
    "# reflect an existing database into a new model\n",
    "Base = automap_base()\n",
    "# reflect the tables\n",
    "Base.prepare(engine, reflect=True)"
   ]
  },
  {
   "cell_type": "code",
   "execution_count": 11,
   "metadata": {},
   "outputs": [],
   "source": [
    "# Save references to each table\n",
    "Measurement = Base.classes.measurement\n",
    "Station = Base.classes.station"
   ]
  },
  {
   "cell_type": "code",
   "execution_count": 12,
   "metadata": {},
   "outputs": [],
   "source": [
    "# Create our session (link) from Python to the DB\n",
    "session = Session(engine)"
   ]
  },
  {
   "cell_type": "markdown",
   "metadata": {},
   "source": [
    "# Exploratory Climate Analysis"
   ]
  },
  {
   "cell_type": "code",
   "execution_count": 13,
   "metadata": {},
   "outputs": [
    {
     "data": {
      "text/plain": [
       "('2010-01-01')"
      ]
     },
     "execution_count": 13,
     "metadata": {},
     "output_type": "execute_result"
    }
   ],
   "source": [
    "session.query(Measurement.date).order_by(Measurement.date).first()"
   ]
  },
  {
   "cell_type": "code",
   "execution_count": 14,
   "metadata": {},
   "outputs": [],
   "source": [
    "# Design a query to retrieve the last 12 months of precipitation data and plot the results\n",
    "\n",
    "rain = [Measurement.prcp, Measurement.date]\n",
    "\n",
    "#rain_lastYear\n",
    "\n",
    "# Calculate the date 1 year ago from the last data point in the database\n",
    "\n",
    "maxDate = session.query(func.max(Measurement.date)).all()\n",
    "maxDate1 = maxDate[0]\n",
    "maxDate2 = pd.to_datetime(maxDate1)\n",
    "yearAgo = maxDate2 - pd.DateOffset(years=1)\n",
    "yearAgo1 = yearAgo[0]\n",
    "yearAgo2 = pd.to_datetime(yearAgo1).date()\n",
    "\n",
    "# Perform a query to retrieve the data and precipitation scores\n",
    "lastYear = session.query(*rain).\\\n",
    "    filter(Measurement.date > yearAgo2).\\\n",
    "    group_by(Measurement.date).\\\n",
    "    order_by(Measurement.date).all()\n",
    "\n",
    "\n",
    "# Save the query results as a Pandas DataFrame and set the index to the date column\n",
    "\n",
    "# Sort the dataframe by date\n",
    "\n",
    "\n"
   ]
  },
  {
   "cell_type": "code",
   "execution_count": 15,
   "metadata": {},
   "outputs": [
    {
     "data": {
      "text/plain": [
       "[(1.45, '2016-08-24'),\n",
       " (0.11, '2016-08-25'),\n",
       " (0.01, '2016-08-26'),\n",
       " (None, '2016-08-27'),\n",
       " (2.07, '2016-08-28'),\n",
       " (0.9, '2016-08-29'),\n",
       " (0.05, '2016-08-30'),\n",
       " (2.46, '2016-08-31'),\n",
       " (0.01, '2016-09-01'),\n",
       " (0.03, '2016-09-02'),\n",
       " (1.0, '2016-09-03'),\n",
       " (0.44, '2016-09-04'),\n",
       " (0.18, '2016-09-05'),\n",
       " (1.0, '2016-09-06'),\n",
       " (1.35, '2016-09-07'),\n",
       " (0.15, '2016-09-08'),\n",
       " (0.35, '2016-09-09'),\n",
       " (1.16, '2016-09-10'),\n",
       " (0.6, '2016-09-11'),\n",
       " (1.04, '2016-09-12'),\n",
       " (1.2, '2016-09-13'),\n",
       " (6.7, '2016-09-14'),\n",
       " (3.35, '2016-09-15'),\n",
       " (0.61, '2016-09-16'),\n",
       " (0.23, '2016-09-17'),\n",
       " (0.42, '2016-09-18'),\n",
       " (0.25, '2016-09-19'),\n",
       " (0.43, '2016-09-20'),\n",
       " (1.02, '2016-09-21'),\n",
       " (0.75, '2016-09-22'),\n",
       " (0.33, '2016-09-23'),\n",
       " (0.27, '2016-09-24'),\n",
       " (0.04, '2016-09-25'),\n",
       " (1.02, '2016-09-26'),\n",
       " (1.0, '2016-09-27'),\n",
       " (0.05, '2016-09-28'),\n",
       " (1.49, '2016-09-29'),\n",
       " (0.38, '2016-09-30'),\n",
       " (1.02, '2016-10-01'),\n",
       " (0.61, '2016-10-02'),\n",
       " (0.46, '2016-10-03'),\n",
       " (3.46, '2016-10-04'),\n",
       " (0.81, '2016-10-05'),\n",
       " (0.04, '2016-10-06'),\n",
       " (0.01, '2016-10-07'),\n",
       " (0.04, '2016-10-08'),\n",
       " (0.0, '2016-10-09'),\n",
       " (0.0, '2016-10-10'),\n",
       " (0.35, '2016-10-11'),\n",
       " (0.02, '2016-10-12'),\n",
       " (0.06, '2016-10-13'),\n",
       " (0.0, '2016-10-14'),\n",
       " (0.33, '2016-10-15'),\n",
       " (0.0, '2016-10-16'),\n",
       " (0.38, '2016-10-17'),\n",
       " (0.48, '2016-10-18'),\n",
       " (0.0, '2016-10-19'),\n",
       " (1.0, '2016-10-20'),\n",
       " (0.09, '2016-10-21'),\n",
       " (1.37, '2016-10-22'),\n",
       " (0.24, '2016-10-23'),\n",
       " (0.7, '2016-10-24'),\n",
       " (0.4, '2016-10-25'),\n",
       " (0.0, '2016-10-26'),\n",
       " (1.25, '2016-10-27'),\n",
       " (0.37, '2016-10-28'),\n",
       " (0.25, '2016-10-29'),\n",
       " (0.95, '2016-10-30'),\n",
       " (1.35, '2016-10-31'),\n",
       " (0.09, '2016-11-01'),\n",
       " (0.04, '2016-11-02'),\n",
       " (0.02, '2016-11-03'),\n",
       " (0.06, '2016-11-04'),\n",
       " (0.38, '2016-11-05'),\n",
       " (0.05, '2016-11-06'),\n",
       " (0.05, '2016-11-07'),\n",
       " (0.53, '2016-11-08'),\n",
       " (0.04, '2016-11-09'),\n",
       " (0.01, '2016-11-10'),\n",
       " (0.0, '2016-11-11'),\n",
       " (0.0, '2016-11-12'),\n",
       " (0.0, '2016-11-13'),\n",
       " (0.02, '2016-11-14'),\n",
       " (0.05, '2016-11-15'),\n",
       " (0.91, '2016-11-16'),\n",
       " (0.02, '2016-11-17'),\n",
       " (0.0, '2016-11-18'),\n",
       " (0.11, '2016-11-19'),\n",
       " (None, '2016-11-20'),\n",
       " (2.87, '2016-11-21'),\n",
       " (2.11, '2016-11-22'),\n",
       " (0.22, '2016-11-23'),\n",
       " (0.72, '2016-11-24'),\n",
       " (1.03, '2016-11-25'),\n",
       " (0.3, '2016-11-26'),\n",
       " (0.29, '2016-11-27'),\n",
       " (0.69, '2016-11-28'),\n",
       " (0.2, '2016-11-29'),\n",
       " (0.79, '2016-11-30'),\n",
       " (0.72, '2016-12-01'),\n",
       " (1.27, '2016-12-02'),\n",
       " (1.62, '2016-12-03'),\n",
       " (0.31, '2016-12-04'),\n",
       " (1.6, '2016-12-05'),\n",
       " (0.0, '2016-12-06'),\n",
       " (0.02, '2016-12-07'),\n",
       " (0.03, '2016-12-08'),\n",
       " (0.42, '2016-12-09'),\n",
       " (0.04, '2016-12-10'),\n",
       " (0.13, '2016-12-11'),\n",
       " (0.01, '2016-12-12'),\n",
       " (0.09, '2016-12-13'),\n",
       " (0.33, '2016-12-14'),\n",
       " (0.03, '2016-12-15'),\n",
       " (0.0, '2016-12-16'),\n",
       " (0.07, '2016-12-17'),\n",
       " (None, '2016-12-18'),\n",
       " (0.15, '2016-12-19'),\n",
       " (0.0, '2016-12-20'),\n",
       " (0.55, '2016-12-21'),\n",
       " (1.24, '2016-12-22'),\n",
       " (0.83, '2016-12-23'),\n",
       " (1.08, '2016-12-24'),\n",
       " (0.38, '2016-12-25'),\n",
       " (1.48, '2016-12-26'),\n",
       " (0.14, '2016-12-27'),\n",
       " (0.14, '2016-12-28'),\n",
       " (1.03, '2016-12-29'),\n",
       " (2.37, '2016-12-30'),\n",
       " (0.9, '2016-12-31'),\n",
       " (0.03, '2017-01-01'),\n",
       " (0.0, '2017-01-02'),\n",
       " (0.0, '2017-01-03'),\n",
       " (0.0, '2017-01-04'),\n",
       " (0.47, '2017-01-05'),\n",
       " (0.1, '2017-01-06'),\n",
       " (0.0, '2017-01-07'),\n",
       " (0.03, '2017-01-08'),\n",
       " (0.0, '2017-01-09'),\n",
       " (0.0, '2017-01-10'),\n",
       " (0.0, '2017-01-11'),\n",
       " (0.0, '2017-01-12'),\n",
       " (0.0, '2017-01-13'),\n",
       " (0.0, '2017-01-14'),\n",
       " (0.01, '2017-01-15'),\n",
       " (0.0, '2017-01-16'),\n",
       " (0.0, '2017-01-17'),\n",
       " (0.07, '2017-01-18'),\n",
       " (0.0, '2017-01-19'),\n",
       " (0.0, '2017-01-20'),\n",
       " (0.08, '2017-01-21'),\n",
       " (0.72, '2017-01-22'),\n",
       " (0.85, '2017-01-23'),\n",
       " (1.85, '2017-01-24'),\n",
       " (2.64, '2017-01-25'),\n",
       " (0.1, '2017-01-26'),\n",
       " (0.03, '2017-01-27'),\n",
       " (0.0, '2017-01-28'),\n",
       " (0.55, '2017-01-29'),\n",
       " (0.0, '2017-01-30'),\n",
       " (0.0, '2017-01-31'),\n",
       " (0.0, '2017-02-01'),\n",
       " (0.0, '2017-02-02'),\n",
       " (0.0, '2017-02-03'),\n",
       " (None, '2017-02-04'),\n",
       " (0.0, '2017-02-05'),\n",
       " (0.0, '2017-02-06'),\n",
       " (1.79, '2017-02-07'),\n",
       " (0.0, '2017-02-08'),\n",
       " (0.0, '2017-02-09'),\n",
       " (0.0, '2017-02-10'),\n",
       " (0.73, '2017-02-11'),\n",
       " (1.83, '2017-02-12'),\n",
       " (0.0, '2017-02-13'),\n",
       " (0.01, '2017-02-14'),\n",
       " (0.07, '2017-02-15'),\n",
       " (0.13, '2017-02-16'),\n",
       " (0.13, '2017-02-17'),\n",
       " (None, '2017-02-18'),\n",
       " (0.1, '2017-02-19'),\n",
       " (0.0, '2017-02-20'),\n",
       " (0.07, '2017-02-21'),\n",
       " (0.32, '2017-02-22'),\n",
       " (0.0, '2017-02-23'),\n",
       " (0.0, '2017-02-24'),\n",
       " (0.12, '2017-02-25'),\n",
       " (0.0, '2017-02-26'),\n",
       " (0.0, '2017-02-27'),\n",
       " (0.58, '2017-02-28'),\n",
       " (2.0, '2017-03-01'),\n",
       " (0.58, '2017-03-02'),\n",
       " (0.56, '2017-03-03'),\n",
       " (0.0, '2017-03-04'),\n",
       " (0.35, '2017-03-05'),\n",
       " (0.0, '2017-03-06'),\n",
       " (0.0, '2017-03-07'),\n",
       " (0.0, '2017-03-08'),\n",
       " (0.01, '2017-03-09'),\n",
       " (0.0, '2017-03-10'),\n",
       " (0.0, '2017-03-11'),\n",
       " (0.0, '2017-03-12'),\n",
       " (None, '2017-03-13'),\n",
       " (0.0, '2017-03-14'),\n",
       " (0.0, '2017-03-15'),\n",
       " (0.0, '2017-03-16'),\n",
       " (0.12, '2017-03-17'),\n",
       " (None, '2017-03-18'),\n",
       " (0.0, '2017-03-19'),\n",
       " (0.0, '2017-03-20'),\n",
       " (0.0, '2017-03-21'),\n",
       " (0.0, '2017-03-22'),\n",
       " (0.03, '2017-03-23'),\n",
       " (0.17, '2017-03-24'),\n",
       " (0.48, '2017-03-25'),\n",
       " (0.0, '2017-03-26'),\n",
       " (0.0, '2017-03-27'),\n",
       " (0.68, '2017-03-28'),\n",
       " (0.07, '2017-03-29'),\n",
       " (0.04, '2017-03-30'),\n",
       " (None, '2017-03-31'),\n",
       " (0.2, '2017-04-01'),\n",
       " (0.0, '2017-04-02'),\n",
       " (0.23, '2017-04-03'),\n",
       " (0.02, '2017-04-04'),\n",
       " (0.45, '2017-04-05'),\n",
       " (0.0, '2017-04-06'),\n",
       " (0.0, '2017-04-07'),\n",
       " (None, '2017-04-08'),\n",
       " (0.0, '2017-04-09'),\n",
       " (0.0, '2017-04-10'),\n",
       " (0.25, '2017-04-11'),\n",
       " (0.65, '2017-04-12'),\n",
       " (0.23, '2017-04-13'),\n",
       " (2.82, '2017-04-14'),\n",
       " (0.9, '2017-04-15'),\n",
       " (0.11, '2017-04-16'),\n",
       " (1.3, '2017-04-17'),\n",
       " (0.98, '2017-04-18'),\n",
       " (0.14, '2017-04-19'),\n",
       " (0.0, '2017-04-20'),\n",
       " (1.84, '2017-04-21'),\n",
       " (1.35, '2017-04-22'),\n",
       " (0.35, '2017-04-23'),\n",
       " (0.05, '2017-04-24'),\n",
       " (0.0, '2017-04-25'),\n",
       " (0.22, '2017-04-26'),\n",
       " (0.11, '2017-04-27'),\n",
       " (0.79, '2017-04-28'),\n",
       " (0.0, '2017-04-29'),\n",
       " (0.8, '2017-04-30'),\n",
       " (0.25, '2017-05-01'),\n",
       " (0.0, '2017-05-02'),\n",
       " (0.01, '2017-05-03'),\n",
       " (None, '2017-05-04'),\n",
       " (0.1, '2017-05-05'),\n",
       " (0.0, '2017-05-06'),\n",
       " (0.03, '2017-05-07'),\n",
       " (1.11, '2017-05-08'),\n",
       " (0.23, '2017-05-09'),\n",
       " (0.55, '2017-05-10'),\n",
       " (0.44, '2017-05-11'),\n",
       " (0.1, '2017-05-12'),\n",
       " (0.1, '2017-05-13'),\n",
       " (1.0, '2017-05-14'),\n",
       " (0.6, '2017-05-15'),\n",
       " (0.3, '2017-05-16'),\n",
       " (0.06, '2017-05-17'),\n",
       " (0.0, '2017-05-18'),\n",
       " (0.01, '2017-05-19'),\n",
       " (None, '2017-05-20'),\n",
       " (0.0, '2017-05-21'),\n",
       " (0.3, '2017-05-22'),\n",
       " (0.44, '2017-05-23'),\n",
       " (2.17, '2017-05-24'),\n",
       " (0.88, '2017-05-25'),\n",
       " (0.0, '2017-05-26'),\n",
       " (0.5, '2017-05-27'),\n",
       " (0.0, '2017-05-28'),\n",
       " (0.4, '2017-05-29'),\n",
       " (None, '2017-05-30'),\n",
       " (0.25, '2017-05-31'),\n",
       " (0.01, '2017-06-01'),\n",
       " (0.09, '2017-06-02'),\n",
       " (None, '2017-06-03'),\n",
       " (0.82, '2017-06-04'),\n",
       " (0.01, '2017-06-05'),\n",
       " (0.0, '2017-06-06'),\n",
       " (0.01, '2017-06-07'),\n",
       " (0.0, '2017-06-08'),\n",
       " (0.02, '2017-06-09'),\n",
       " (None, '2017-06-10'),\n",
       " (0.7, '2017-06-11'),\n",
       " (0.81, '2017-06-12'),\n",
       " (0.65, '2017-06-13'),\n",
       " (0.81, '2017-06-14'),\n",
       " (1.69, '2017-06-15'),\n",
       " (0.1, '2017-06-16'),\n",
       " (0.1, '2017-06-17'),\n",
       " (0.7, '2017-06-18'),\n",
       " (0.4, '2017-06-19'),\n",
       " (0.31, '2017-06-20'),\n",
       " (0.3, '2017-06-21'),\n",
       " (0.28, '2017-06-22'),\n",
       " (0.5, '2017-06-23'),\n",
       " (0.22, '2017-06-24'),\n",
       " (0.5, '2017-06-25'),\n",
       " (0.02, '2017-06-26'),\n",
       " (0.1, '2017-06-27'),\n",
       " (0.02, '2017-06-28'),\n",
       " (0.04, '2017-06-29'),\n",
       " (0.2, '2017-06-30'),\n",
       " (0.1, '2017-07-01'),\n",
       " (0.5, '2017-07-02'),\n",
       " (0.4, '2017-07-03'),\n",
       " (0.0, '2017-07-04'),\n",
       " (0.0, '2017-07-05'),\n",
       " (0.02, '2017-07-06'),\n",
       " (0.3, '2017-07-07'),\n",
       " (0.02, '2017-07-08'),\n",
       " (0.0, '2017-07-09'),\n",
       " (0.02, '2017-07-10'),\n",
       " (0.0, '2017-07-11'),\n",
       " (0.05, '2017-07-12'),\n",
       " (0.68, '2017-07-13'),\n",
       " (0.68, '2017-07-14'),\n",
       " (0.1, '2017-07-15'),\n",
       " (0.5, '2017-07-16'),\n",
       " (0.39, '2017-07-17'),\n",
       " (2.4, '2017-07-18'),\n",
       " (0.27, '2017-07-19'),\n",
       " (0.7, '2017-07-20'),\n",
       " (0.1, '2017-07-21'),\n",
       " (4.0, '2017-07-22'),\n",
       " (0.8, '2017-07-23'),\n",
       " (0.84, '2017-07-24'),\n",
       " (0.3, '2017-07-25'),\n",
       " (0.3, '2017-07-26'),\n",
       " (0.0, '2017-07-27'),\n",
       " (0.4, '2017-07-28'),\n",
       " (0.3, '2017-07-29'),\n",
       " (0.3, '2017-07-30'),\n",
       " (0.0, '2017-07-31'),\n",
       " (None, '2017-08-01'),\n",
       " (0.25, '2017-08-02'),\n",
       " (0.06, '2017-08-03'),\n",
       " (0.0, '2017-08-04'),\n",
       " (None, '2017-08-05'),\n",
       " (None, '2017-08-06'),\n",
       " (0.05, '2017-08-07'),\n",
       " (0.34, '2017-08-08'),\n",
       " (0.15, '2017-08-09'),\n",
       " (0.07, '2017-08-10'),\n",
       " (None, '2017-08-11'),\n",
       " (0.14, '2017-08-12'),\n",
       " (None, '2017-08-13'),\n",
       " (0.22, '2017-08-14'),\n",
       " (0.42, '2017-08-15'),\n",
       " (0.42, '2017-08-16'),\n",
       " (0.13, '2017-08-17'),\n",
       " (None, '2017-08-18'),\n",
       " (0.09, '2017-08-19'),\n",
       " (None, '2017-08-20'),\n",
       " (0.56, '2017-08-21'),\n",
       " (0.5, '2017-08-22'),\n",
       " (0.45, '2017-08-23')]"
      ]
     },
     "execution_count": 15,
     "metadata": {},
     "output_type": "execute_result"
    }
   ],
   "source": [
    "lastYear"
   ]
  },
  {
   "cell_type": "code",
   "execution_count": 16,
   "metadata": {},
   "outputs": [
    {
     "data": {
      "image/png": "[encoded data removed]",
      "text/plain": [
       "<Figure size 720x432 with 1 Axes>"
      ]
     },
     "metadata": {},
     "output_type": "display_data"
    }
   ],
   "source": [
    "# Use Pandas Plotting with Matplotlib to plot the data\n",
    "df = pd.DataFrame(lastYear, columns=['precipitation', 'date'])\n",
    "\n",
    "df = df.sort_values('date', ascending=True)\n",
    "\n",
    "df.set_index('date', inplace=True)\n",
    "\n",
    "ax = plt.axes()\n",
    "df.plot(ax=ax, figsize=(10,6))\n",
    "labels = ax.get_xticklabels()"
   ]
  },
  {
   "cell_type": "code",
   "execution_count": 17,
   "metadata": {},
   "outputs": [
    {
     "data": {
      "image/png": "[encoded data removed]",
      "text/plain": [
       "<Figure size 720x432 with 1 Axes>"
      ]
     },
     "metadata": {},
     "output_type": "display_data"
    }
   ],
   "source": [
    "# Use Pandas Plotting with Matplotlib to plot the data\n",
    "df = pd.DataFrame(lastYear, columns=['precipitation', 'date'])\n",
    "df.set_index('date', inplace=True)\n",
    "\n",
    "df = df.sort_values('date', ascending=True)\n",
    "\n",
    "df.plot.bar(figsize=(10,6), width=2)\n",
    "\n",
    "plt.tight_layout()\n",
    "plt.xticks([])\n",
    "plt.show()"
   ]
  },
  {
   "cell_type": "code",
   "execution_count": 18,
   "metadata": {},
   "outputs": [
    {
     "data": {
      "text/html": [
       "<div>\n",
       "<style scoped>\n",
       "    .dataframe tbody tr th:only-of-type {\n",
       "        vertical-align: middle;\n",
       "    }\n",
       "\n",
       "    .dataframe tbody tr th {\n",
       "        vertical-align: top;\n",
       "    }\n",
       "\n",
       "    .dataframe thead th {\n",
       "        text-align: right;\n",
       "    }\n",
       "</style>\n",
       "<table border=\"1\" class=\"dataframe\">\n",
       "  <thead>\n",
       "    <tr style=\"text-align: right;\">\n",
       "      <th></th>\n",
       "      <th>precipitation</th>\n",
       "    </tr>\n",
       "  </thead>\n",
       "  <tbody>\n",
       "    <tr>\n",
       "      <th>count</th>\n",
       "      <td>344.000000</td>\n",
       "    </tr>\n",
       "    <tr>\n",
       "      <th>mean</th>\n",
       "      <td>0.431308</td>\n",
       "    </tr>\n",
       "    <tr>\n",
       "      <th>std</th>\n",
       "      <td>0.705240</td>\n",
       "    </tr>\n",
       "    <tr>\n",
       "      <th>min</th>\n",
       "      <td>0.000000</td>\n",
       "    </tr>\n",
       "    <tr>\n",
       "      <th>25%</th>\n",
       "      <td>0.010000</td>\n",
       "    </tr>\n",
       "    <tr>\n",
       "      <th>50%</th>\n",
       "      <td>0.140000</td>\n",
       "    </tr>\n",
       "    <tr>\n",
       "      <th>75%</th>\n",
       "      <td>0.565000</td>\n",
       "    </tr>\n",
       "    <tr>\n",
       "      <th>max</th>\n",
       "      <td>6.700000</td>\n",
       "    </tr>\n",
       "  </tbody>\n",
       "</table>\n",
       "</div>"
      ],
      "text/plain": [
       "       precipitation\n",
       "count     344.000000\n",
       "mean        0.431308\n",
       "std         0.705240\n",
       "min         0.000000\n",
       "25%         0.010000\n",
       "50%         0.140000\n",
       "75%         0.565000\n",
       "max         6.700000"
      ]
     },
     "execution_count": 18,
     "metadata": {},
     "output_type": "execute_result"
    }
   ],
   "source": [
    "# Use Pandas to calcualte the summary statistics for the precipitation data\n",
    "df.describe()"
   ]
  },
  {
   "cell_type": "code",
   "execution_count": 19,
   "metadata": {},
   "outputs": [
    {
     "name": "stdout",
     "output_type": "stream",
     "text": [
      "There are 9 stations available in this dataset.\n"
     ]
    }
   ],
   "source": [
    "# Design a query to show how many stations are available in this dataset?\n",
    "stationCount = session.query(Station.name).count()\n",
    "print(\"There are {} stations available in this dataset.\".format(stationCount))"
   ]
  },
  {
   "cell_type": "code",
   "execution_count": 20,
   "metadata": {},
   "outputs": [
    {
     "data": {
      "text/plain": [
       "[(7, 'WAIHEE 837.5, HI US', 2772),\n",
       " (1, 'WAIKIKI 717.2, HI US', 2724),\n",
       " (2, 'KANEOHE 838.1, HI US', 2709),\n",
       " (6, 'WAIMANALO EXPERIMENTAL FARM, HI US', 2669),\n",
       " (9, 'MANOA LYON ARBO 785.2, HI US', 2612),\n",
       " (3, 'KUALOA RANCH HEADQUARTERS 886.9, HI US', 2202),\n",
       " (8, 'HONOLULU OBSERVATORY 702.2, HI US', 1979),\n",
       " (4, 'PEARL CITY, HI US', 1372),\n",
       " (5, 'UPPER WAHIAWA 874.3, HI US', 511)]"
      ]
     },
     "execution_count": 20,
     "metadata": {},
     "output_type": "execute_result"
    }
   ],
   "source": [
    "# What are the most active stations? (i.e. what stations have the most rows)?\n",
    "# List the stations and the counts in descending order.\n",
    "stationCount = session.query(Station.id, Station.name, func.count(Measurement.station)).\\\n",
    "                join(Measurement, Station.station == Measurement.station).\\\n",
    "                group_by(Measurement.station).order_by(func.count(Measurement.station).desc()).all()\n",
    "stationCount"
   ]
  },
  {
   "cell_type": "code",
   "execution_count": 21,
   "metadata": {},
   "outputs": [
    {
     "data": {
      "text/plain": [
       "[(7, 'WAIHEE 837.5, HI US', 53.0, 87.0, 73.09795396419437)]"
      ]
     },
     "execution_count": 21,
     "metadata": {},
     "output_type": "execute_result"
    }
   ],
   "source": [
    "# Using the station id from the previous query, calculate the lowest temperature recorded, \n",
    "# highest temperature recorded, and average temperature most active station?\n",
    "topStationStats = session.query(Station.id, Station.name, func.min(Measurement.tobs), func.max(Measurement.tobs), func.avg(Measurement.tobs)).\\\n",
    "                join(Measurement, Station.id == 7).all()\n",
    "topStationStats"
   ]
  },
  {
   "cell_type": "code",
   "execution_count": 22,
   "metadata": {},
   "outputs": [
    {
     "name": "stdout",
     "output_type": "stream",
     "text": [
      "Station ID # 7, named WAIHEE 837.5, HI US, had the lowest temperature of 53.0, the highest temperature of 87.0, and the average temperature of 73.09795396419437.\n"
     ]
    }
   ],
   "source": [
    "for record in topStationStats:\n",
    "    (station_id, station_name, measure_min, measure_max, measure_avg) = record\n",
    "    print(f\"Station ID # {station_id}, named {station_name}, had the lowest temperature of {measure_min}, the highest temperature of {measure_max}, and the average temperature of {measure_avg}.\")"
   ]
  },
  {
   "cell_type": "code",
   "execution_count": 29,
   "metadata": {},
   "outputs": [
    {
     "ename": "AttributeError",
     "evalue": "'list' object has no attribute 'limit'",
     "output_type": "error",
     "traceback": [
      "\u001b[0;31m---------------------------------------------------------------------------\u001b[0m",
      "\u001b[0;31mAttributeError\u001b[0m                            Traceback (most recent call last)",
      "\u001b[0;32m<ipython-input-29-aca2ad8b070a>\u001b[0m in \u001b[0;36m<module>\u001b[0;34m()\u001b[0m\n\u001b[1;32m      1\u001b[0m \u001b[0;31m# Choose the station with the highest number of temperature observations.\u001b[0m\u001b[0;34m\u001b[0m\u001b[0;34m\u001b[0m\u001b[0m\n\u001b[1;32m      2\u001b[0m \u001b[0;31m# Query the last 12 months of temperature observation data for this station and plot the results as a histogram\u001b[0m\u001b[0;34m\u001b[0m\u001b[0;34m\u001b[0m\u001b[0m\n\u001b[0;32m----> 3\u001b[0;31m \u001b[0mmaxTemps\u001b[0m \u001b[0;34m=\u001b[0m \u001b[0msession\u001b[0m\u001b[0;34m.\u001b[0m\u001b[0mquery\u001b[0m\u001b[0;34m(\u001b[0m\u001b[0mStation\u001b[0m\u001b[0;34m.\u001b[0m\u001b[0mid\u001b[0m\u001b[0;34m,\u001b[0m \u001b[0mStation\u001b[0m\u001b[0;34m.\u001b[0m\u001b[0mname\u001b[0m\u001b[0;34m,\u001b[0m \u001b[0mMeasurement\u001b[0m\u001b[0;34m.\u001b[0m\u001b[0mtobs\u001b[0m\u001b[0;34m)\u001b[0m\u001b[0;34m.\u001b[0m\u001b[0mjoin\u001b[0m\u001b[0;34m(\u001b[0m\u001b[0mMeasurement\u001b[0m\u001b[0;34m,\u001b[0m \u001b[0mStation\u001b[0m\u001b[0;34m.\u001b[0m\u001b[0mstation\u001b[0m \u001b[0;34m==\u001b[0m \u001b[0mMeasurement\u001b[0m\u001b[0;34m.\u001b[0m\u001b[0mstation\u001b[0m\u001b[0;34m)\u001b[0m\u001b[0;34m.\u001b[0m\u001b[0morder_by\u001b[0m\u001b[0;34m(\u001b[0m\u001b[0mMeasurement\u001b[0m\u001b[0;34m.\u001b[0m\u001b[0mtobs\u001b[0m\u001b[0;34m.\u001b[0m\u001b[0mdesc\u001b[0m\u001b[0;34m(\u001b[0m\u001b[0;34m)\u001b[0m\u001b[0;34m)\u001b[0m\u001b[0;34m.\u001b[0m\u001b[0mall\u001b[0m\u001b[0;34m(\u001b[0m\u001b[0;34m)\u001b[0m\u001b[0;34m.\u001b[0m\u001b[0mlimit\u001b[0m\u001b[0;34m(\u001b[0m\u001b[0;36m1\u001b[0m\u001b[0;34m)\u001b[0m\u001b[0;34m\u001b[0m\u001b[0m\n\u001b[0m\u001b[1;32m      4\u001b[0m \u001b[0mmaxTemps\u001b[0m\u001b[0;34m\u001b[0m\u001b[0m\n",
      "\u001b[0;31mAttributeError\u001b[0m: 'list' object has no attribute 'limit'"
     ]
    }
   ],
   "source": [
    "# Choose the station with the highest number of temperature observations.\n",
    "# Query the last 12 months of temperature observation data for this station and plot the results as a histogram\n",
    "maxTemps = session.query(Station.id, Station.name, Measurement.tobs).join(Measurement, Station.station == Measurement.station).order_by(Measurement.tobs.desc()).all()\n",
    "maxTemps"
   ]
  },
  {
   "cell_type": "markdown",
   "metadata": {},
   "source": [
    "![precipitation](Images/station-histogram.png)"
   ]
  },
  {
   "cell_type": "code",
   "execution_count": null,
   "metadata": {},
   "outputs": [],
   "source": [
    "# This function called `calc_temps` will accept start date and end date in the format '%Y-%m-%d' \n",
    "# and return the minimum, average, and maximum temperatures for that range of dates\n",
    "def calc_temps(start_date, end_date):\n",
    "    \"\"\"TMIN, TAVG, and TMAX for a list of dates.\n",
    "    \n",
    "    Args:\n",
    "        start_date (string): A date string in the format %Y-%m-%d\n",
    "        end_date (string): A date string in the format %Y-%m-%d\n",
    "        \n",
    "    Returns:\n",
    "        TMIN, TAVE, and TMAX\n",
    "    \"\"\"\n",
    "    \n",
    "    return session.query(func.min(Measurement.tobs), func.avg(Measurement.tobs), func.max(Measurement.tobs)).\\\n",
    "        filter(Measurement.date >= start_date).filter(Measurement.date <= end_date).all()\n",
    "\n",
    "# function usage example\n",
    "print(calc_temps('2012-02-28', '2012-03-05'))"
   ]
  },
  {
   "cell_type": "code",
   "execution_count": null,
   "metadata": {},
   "outputs": [],
   "source": [
    "# Use your previous function `calc_temps` to calculate the tmin, tavg, and tmax \n",
    "# for your trip using the previous year's data for those same dates.\n"
   ]
  },
  {
   "cell_type": "code",
   "execution_count": null,
   "metadata": {},
   "outputs": [],
   "source": [
    "# Plot the results from your previous query as a bar chart. \n",
    "# Use \"Trip Avg Temp\" as your Title\n",
    "# Use the average temperature for the y value\n",
    "# Use the peak-to-peak (tmax-tmin) value as the y error bar (yerr)\n"
   ]
  },
  {
   "cell_type": "code",
   "execution_count": null,
   "metadata": {},
   "outputs": [],
   "source": [
    "# Calculate the rainfall per weather station for your trip dates using the previous year's matching dates.\n",
    "# Sort this in descending order by precipitation amount and list the station, name, latitude, longitude, and elevation\n",
    "\n"
   ]
  },
  {
   "cell_type": "markdown",
   "metadata": {},
   "source": [
    "## Optional Challenge Assignment"
   ]
  },
  {
   "cell_type": "code",
   "execution_count": null,
   "metadata": {},
   "outputs": [],
   "source": [
    "# Create a query that will calculate the daily normals \n",
    "# (i.e. the averages for tmin, tmax, and tavg for all historic data matching a specific month and day)\n",
    "\n",
    "def daily_normals(date):\n",
    "    \"\"\"Daily Normals.\n",
    "    \n",
    "    Args:\n",
    "        date (str): A date string in the format '%m-%d'\n",
    "        \n",
    "    Returns:\n",
    "        A list of tuples containing the daily normals, tmin, tavg, and tmax\n",
    "    \n",
    "    \"\"\"\n",
    "    \n",
    "    sel = [func.min(Measurement.tobs), func.avg(Measurement.tobs), func.max(Measurement.tobs)]\n",
    "    return session.query(*sel).filter(func.strftime(\"%m-%d\", Measurement.date) == date).all()\n",
    "    \n",
    "daily_normals(\"01-01\")"
   ]
  },
  {
   "cell_type": "code",
   "execution_count": null,
   "metadata": {},
   "outputs": [],
   "source": [
    "# calculate the daily normals for your trip\n",
    "# push each tuple of calculations into a list called `normals`\n",
    "\n",
    "# Set the start and end date of the trip\n",
    "\n",
    "# Use the start and end date to create a range of dates\n",
    "\n",
    "# Stip off the year and save a list of %m-%d strings\n",
    "\n",
    "# Loop through the list of %m-%d strings and calculate the normals for each date\n"
   ]
  },
  {
   "cell_type": "code",
   "execution_count": null,
   "metadata": {},
   "outputs": [],
   "source": [
    "# Load the previous query results into a Pandas DataFrame and add the `trip_dates` range as the `date` index\n"
   ]
  },
  {
   "cell_type": "code",
   "execution_count": null,
   "metadata": {},
   "outputs": [],
   "source": [
    "# Plot the daily normals as an area plot with `stacked=False`\n"
   ]
  }
 ],
 "metadata": {
  "kernel_info": {
   "name": "python3"
  },
  "kernelspec": {
   "display_name": "Python 3",
   "language": "python",
   "name": "python3"
  },
  "language_info": {
   "codemirror_mode": {
    "name": "ipython",
    "version": 3
   },
   "file_extension": ".py",
   "mimetype": "text/x-python",
   "name": "python",
   "nbconvert_exporter": "python",
   "pygments_lexer": "ipython3",
   "version": "3.6.5"
  },
  "nteract": {
   "version": "0.9.1"
  },
  "varInspector": {
   "cols": {
    "lenName": 16,
    "lenType": 16,
    "lenVar": 40
   },
   "kernels_config": {
    "python": {
     "delete_cmd_postfix": "",
     "delete_cmd_prefix": "del ",
     "library": "var_list.py",
     "varRefreshCmd": "print(var_dic_list())"
    },
    "r": {
     "delete_cmd_postfix": ") ",
     "delete_cmd_prefix": "rm(",
     "library": "var_list.r",
     "varRefreshCmd": "cat(var_dic_list()) "
    }
   },
   "types_to_exclude": [
    "module",
    "function",
    "builtin_function_or_method",
    "instance",
    "_Feature"
   ],
   "window_display": false
  }
 },
 "nbformat": 4,
 "nbformat_minor": 2
}
